{
 "cells": [
  {
   "cell_type": "code",
   "execution_count": 1,
   "id": "a7cac00e",
   "metadata": {},
   "outputs": [
    {
     "name": "stdout",
     "output_type": "stream",
     "text": [
      "sklearn:::::1.7.0\n",
      "seaborn::::0.13.2\n",
      "seaborn::::3.0.2\n"
     ]
    }
   ],
   "source": [
    "import sklearn\n",
    "print(\"sklearn:::::\"+sklearn.__version__)\n",
    "\n",
    "import seaborn\n",
    "print(\"seaborn::::\"+seaborn.__version__)\n",
    "\n",
    "import xgboost\n",
    "print(\"seaborn::::\"+xgboost.__version__)"
   ]
  },
  {
   "cell_type": "code",
   "execution_count": 1,
   "id": "0eb64db5",
   "metadata": {},
   "outputs": [
    {
     "data": {
      "image/png": "[encoded data removed]",
      "text/plain": [
       "<Figure size 640x480 with 1 Axes>"
      ]
     },
     "metadata": {},
     "output_type": "display_data"
    }
   ],
   "source": [
    "import numpy as np\n",
    "import matplotlib.pyplot as plt \n",
    "\n",
    "array1 = np.array([1,2,3,4])\n",
    "plt.hist(array1)\n",
    "plt.show()"
   ]
  },
  {
   "cell_type": "markdown",
   "id": "5c8cab4e",
   "metadata": {},
   "source": [
    "### 헤더"
   ]
  },
  {
   "cell_type": "code",
   "execution_count": null,
   "id": "2f3aff21",
   "metadata": {},
   "outputs": [],
   "source": []
  }
 ],
 "metadata": {
  "kernelspec": {
   "display_name": "venv",
   "language": "python",
   "name": "python3"
  },
  "language_info": {
   "codemirror_mode": {
    "name": "ipython",
    "version": 3
   },
   "file_extension": ".py",
   "mimetype": "text/x-python",
   "name": "python",
   "nbconvert_exporter": "python",
   "pygments_lexer": "ipython3",
   "version": "3.11.9"
  }
 },
 "nbformat": 4,
 "nbformat_minor": 5
}
